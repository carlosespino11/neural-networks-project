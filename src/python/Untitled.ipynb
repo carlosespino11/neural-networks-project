{
 "cells": [
  {
   "cell_type": "code",
   "execution_count": 14,
   "metadata": {
    "collapsed": true
   },
   "outputs": [],
   "source": [
    "import numpy as np\n",
    "import pickle\n",
    "import skimage.transform\n",
    "import scipy\n",
    "\n",
    "import theano\n",
    "import theano.tensor as T\n",
    "import matplotlib.pyplot as plt\n",
    "%matplotlib inline"
   ]
  },
  {
   "cell_type": "code",
   "execution_count": 15,
   "metadata": {
    "collapsed": false
   },
   "outputs": [],
   "source": [
    "from nn import ConvLayer\n",
    "from theano.tensor.signal import pool\n",
    "\n",
    "class vgg19(object):\n",
    "    def __init__(self, input,batch_size,width_1):\n",
    "        self.input=input.reshape(batch_size,3,width_1,width_1)\n",
    "        rng=np.random.RandomState(11)\n",
    "        self.layers={}\n",
    "        \n",
    "        self.conv1_1 = ConvLayer(rng,\n",
    "            input=input,\n",
    "            image_shape=(batch_size, 3, width_1, width_1),\n",
    "            filter_shape=(64, 3, 3, 3),\n",
    "            border_mode=1\n",
    "        )\n",
    "        self.conv1_2 = ConvLayer(\n",
    "            rng,\n",
    "            input=self.conv1_1.output,\n",
    "            image_shape=(batch_size, 64, width_1, width_1),\n",
    "            filter_shape=(64, 64, 3, 3),\n",
    "            border_mode=1\n",
    "        )\n",
    "        self.pool1 = pool.pool_2d(\n",
    "            input=self.conv1_2.output,\n",
    "            ds=(2,2)\n",
    "        )\n",
    "        width_2 = width_1/2\n",
    "\n",
    "\n",
    "        self.conv2_1 = ConvLayer(\n",
    "            rng,\n",
    "            input=self.pool1,\n",
    "            image_shape=(batch_size, 64, width_2, width_2),\n",
    "            filter_shape=(128, 64, 3, 3),\n",
    "            border_mode=1\n",
    "        )\n",
    "        self.conv2_2  = ConvLayer(\n",
    "            rng,\n",
    "            input=self.conv2_1.output,\n",
    "            image_shape=(batch_size, 128, width_2, width_2),\n",
    "            filter_shape=(128, 128, 3, 3),\n",
    "            border_mode=1\n",
    "        )\n",
    "        self.pool2 = pool.pool_2d(\n",
    "                input=self.conv2_2.output,\n",
    "                ds=(2,2)\n",
    "        )    \n",
    "        width_3 = width_2/2\n",
    "        \n",
    "        self.conv3_1 = ConvLayer(\n",
    "            rng,\n",
    "            input=self.pool2,\n",
    "            image_shape=(batch_size, 128, width_3, width_3),\n",
    "            filter_shape=(256, 128, 3, 3),\n",
    "            border_mode=1\n",
    "        )\n",
    "        \n",
    "        self.conv3_2 = ConvLayer(\n",
    "            rng,\n",
    "            input=self.conv3_1.output,\n",
    "            image_shape=(batch_size, 256, width_3, width_3),\n",
    "            filter_shape=(256, 256, 3, 3),\n",
    "            border_mode=1\n",
    "        )\n",
    "        self.conv3_3 = ConvLayer(\n",
    "            rng,\n",
    "            input=self.conv3_2.output,\n",
    "            image_shape=(batch_size, 256, width_3, width_3),\n",
    "            filter_shape=(256, 256, 3, 3),\n",
    "            border_mode=1\n",
    "        )\n",
    "\n",
    "        self.conv3_4 = ConvLayer(\n",
    "            rng,\n",
    "            input=self.conv3_3.output,\n",
    "            image_shape=(batch_size, 256, width_3, width_3),\n",
    "            filter_shape=(256, 256, 3, 3),\n",
    "            border_mode=1\n",
    "        )\n",
    "        self.pool3 = pool.pool_2d(\n",
    "                input=self.conv3_4.output,\n",
    "                ds=(2,2)\n",
    "        ) \n",
    "        width_4 = width_3/2\n",
    "        self.conv4_1 = ConvLayer(\n",
    "            rng,\n",
    "            input=self.pool3,\n",
    "            image_shape=(batch_size, 256, width_4, width_4),\n",
    "            filter_shape=(512, 256, 3, 3),\n",
    "            border_mode=1\n",
    "        )\n",
    "        self.conv4_2 = ConvLayer(\n",
    "            rng,\n",
    "            input=self.conv4_1.output,\n",
    "            image_shape=(batch_size, 512, width_4, width_4),\n",
    "            filter_shape=(512, 512, 3, 3),\n",
    "            border_mode=1\n",
    "        )\n",
    "        self.conv4_3 = ConvLayer(\n",
    "            rng,\n",
    "            input=self.conv4_2.output,\n",
    "            image_shape=(batch_size, 512, width_4, width_4),\n",
    "            filter_shape=(512, 512, 3, 3),\n",
    "            border_mode=1\n",
    "        )\n",
    "\n",
    "        self.conv4_4 = ConvLayer(\n",
    "            rng,\n",
    "            input=self.conv4_3.output,\n",
    "            image_shape=(batch_size, 512, width_4, width_4),\n",
    "            filter_shape=(512, 512, 3, 3),\n",
    "            border_mode=1\n",
    "        )\n",
    "        self.pool4 = pool.pool_2d(\n",
    "                input=self.conv4_4.output,\n",
    "                ds=(2,2)\n",
    "        ) \n",
    "        width_5 = width/2\n",
    "        self.conv5_1 = ConvLayer(\n",
    "            rng,\n",
    "            input=self.pool4,\n",
    "            image_shape=(batch_size, 512, width_5, width_5),\n",
    "            filter_shape=(512, 512, 3, 3),\n",
    "            border_mode=1\n",
    "        )\n",
    "        self.conv5_2 = ConvLayer(\n",
    "            rng,\n",
    "            input=self.conv5_1.output,\n",
    "            image_shape=(batch_size, 512, width_5, width_5),\n",
    "            filter_shape=(512, 512, 3, 3),\n",
    "            border_mode=1\n",
    "        )\n",
    "        self.conv5_3 = ConvLayer(\n",
    "            rng,\n",
    "            input=self.conv5_2.output,\n",
    "            image_shape=(batch_size, 512, width_5, width_5),\n",
    "            filter_shape=(512, 512, 3, 3),\n",
    "            border_mode=1\n",
    "        )\n",
    "\n",
    "        self.conv5_4 = ConvLayer(\n",
    "            rng,\n",
    "            input=self.conv5_3.output,\n",
    "            image_shape=(batch_size, 512, width_5, width_5),\n",
    "            filter_shape=(512, 512, 3, 3),\n",
    "            border_mode=1\n",
    "        )\n",
    "        self.pool5 = pool.pool_2d(\n",
    "                input=self.conv5_4.output,\n",
    "                ds=(2,2),mode='average_exc_pad'\n",
    "        )\n",
    "        self.output=self.pool5\n",
    "        self.layers['conv1_1']=self.conv1_1\n",
    "        self.layers['conv1_2']=self.conv1_2\n",
    "        self.layers['conv2_1']=self.conv2_1\n",
    "        self.layers['conv2_2']=self.conv2_2\n",
    "        self.layers['conv3_1']=self.conv3_1\n",
    "        self.layers['conv3_2']=self.conv3_2\n",
    "        self.layers['conv3_3']=self.conv3_3\n",
    "        self.layers['conv3_4']=self.conv3_4\n",
    "        self.layers['conv4_1']=self.conv4_1\n",
    "        self.layers['conv4_2']=self.conv4_2\n",
    "        self.layers['conv4_3']=self.conv4_3\n",
    "        self.layers['conv4_4']=self.conv4_4\n",
    "        self.layers['conv5_1']=self.conv5_1\n",
    "        self.layers['conv5_2']=self.conv5_2\n",
    "        self.layers['conv5_3']=self.conv5_3\n",
    "        self.layers['conv5_4']=self.conv5_4\n",
    "\n",
    "    def set_params(self,values):\n",
    "        i=0\n",
    "        for name_key in self.layers.keys():\n",
    "            self.layers[name_key].set_param(values[i],values[i+1])\n",
    "            i=i+2"
   ]
  },
  {
   "cell_type": "code",
   "execution_count": 5,
   "metadata": {
    "collapsed": false
   },
   "outputs": [
    {
     "name": "stdout",
     "output_type": "stream",
     "text": [
      "--2016-12-14 20:33:33--  https://s3.amazonaws.com/lasagne/recipes/pretrained/imagenet/vgg19_normalized.pkl\n",
      "Resolving s3.amazonaws.com (s3.amazonaws.com)... 52.216.225.147\n",
      "Connecting to s3.amazonaws.com (s3.amazonaws.com)|52.216.225.147|:443... connected.\n",
      "HTTP request sent, awaiting response... 200 OK\n",
      "Length: 80126892 (76M) [binary/octet-stream]\n",
      "Saving to: ‘vgg19_normalized.pkl’\n",
      "\n",
      "100%[======================================>] 80,126,892  45.8MB/s   in 1.7s   \n",
      "\n",
      "2016-12-14 20:33:35 (45.8 MB/s) - ‘vgg19_normalized.pkl’ saved [80126892/80126892]\n",
      "\n"
     ]
    }
   ],
   "source": [
    "#!wget https://s3.amazonaws.com/lasagne/recipes/pretrained/imagenet/vgg19_normalized.pkl"
   ]
  },
  {
   "cell_type": "code",
   "execution_count": 10,
   "metadata": {
    "collapsed": false
   },
   "outputs": [
    {
     "data": {
      "text/plain": [
       "(1, 32)"
      ]
     },
     "execution_count": 10,
     "metadata": {},
     "output_type": "execute_result"
    }
   ],
   "source": [
    "\n",
    "# build VGG net and load weights\n",
    "\n",
    "# net = build_model()\n",
    "\n",
    "values = pickle.load(open('vgg19_normalized.pkl'))['param values']\n",
    "np.matrix(values).shape\n",
    "# lasagne.layers.set_all_param_values(net['pool5'], values)"
   ]
  },
  {
   "cell_type": "code",
   "execution_count": 11,
   "metadata": {
    "collapsed": true
   },
   "outputs": [],
   "source": [
    "MEAN_VALUES = np.array([104, 117, 123]).reshape((3,1,1))\n",
    "\n",
    "def prep_image(im):\n",
    "    if len(im.shape) == 2:\n",
    "        im = im[:, :, np.newaxis]\n",
    "        im = np.repeat(im, 3, axis=2)\n",
    "    h, w, _ = im.shape\n",
    "    if h < w:\n",
    "        im = skimage.transform.resize(im, (IMAGE_W, w*IMAGE_W/h), preserve_range=True)\n",
    "    else:\n",
    "        im = skimage.transform.resize(im, (h*IMAGE_W/w, IMAGE_W), preserve_range=True)\n",
    "\n",
    "    # Central crop\n",
    "    h, w, _ = im.shape\n",
    "    im = im[h//2-IMAGE_W//2:h//2+IMAGE_W//2, w//2-IMAGE_W//2:w//2+IMAGE_W//2]\n",
    "    \n",
    "    rawim = np.copy(im).astype('uint8')\n",
    "    \n",
    "    # Shuffle axes to c01\n",
    "    im = np.swapaxes(np.swapaxes(im, 1, 2), 0, 1)\n",
    "    \n",
    "    # Convert RGB to BGR\n",
    "    im = im[::-1, :, :]\n",
    "\n",
    "    im = im - MEAN_VALUES\n",
    "    return rawim, floatX(im[np.newaxis])"
   ]
  },
  {
   "cell_type": "code",
   "execution_count": 16,
   "metadata": {
    "collapsed": false
   },
   "outputs": [
    {
     "ename": "IOError",
     "evalue": "[Errno 2] No such file or directory: 'data/test/Tuebingen_Neckarfront.jpg'",
     "output_type": "error",
     "traceback": [
      "\u001b[1;31m---------------------------------------------------------------------------\u001b[0m",
      "\u001b[1;31mIOError\u001b[0m                                   Traceback (most recent call last)",
      "\u001b[1;32m<ipython-input-16-c861f1726823>\u001b[0m in \u001b[0;36m<module>\u001b[1;34m()\u001b[0m\n\u001b[0;32m      1\u001b[0m \u001b[1;33m\u001b[0m\u001b[0m\n\u001b[1;32m----> 2\u001b[1;33m \u001b[0mphoto\u001b[0m \u001b[1;33m=\u001b[0m \u001b[0mplt\u001b[0m\u001b[1;33m.\u001b[0m\u001b[0mimread\u001b[0m\u001b[1;33m(\u001b[0m\u001b[1;34m'data/test/Tuebingen_Neckarfront.jpg'\u001b[0m\u001b[1;33m)\u001b[0m\u001b[1;33m\u001b[0m\u001b[0m\n\u001b[0m",
      "\u001b[1;32m/home/ubuntu/miniconda2/envs/theano/lib/python2.7/site-packages/matplotlib/pyplot.pyc\u001b[0m in \u001b[0;36mimread\u001b[1;34m(*args, **kwargs)\u001b[0m\n\u001b[0;32m   2295\u001b[0m \u001b[1;33m@\u001b[0m\u001b[0mdocstring\u001b[0m\u001b[1;33m.\u001b[0m\u001b[0mcopy_dedent\u001b[0m\u001b[1;33m(\u001b[0m\u001b[0m_imread\u001b[0m\u001b[1;33m)\u001b[0m\u001b[1;33m\u001b[0m\u001b[0m\n\u001b[0;32m   2296\u001b[0m \u001b[1;32mdef\u001b[0m \u001b[0mimread\u001b[0m\u001b[1;33m(\u001b[0m\u001b[1;33m*\u001b[0m\u001b[0margs\u001b[0m\u001b[1;33m,\u001b[0m \u001b[1;33m**\u001b[0m\u001b[0mkwargs\u001b[0m\u001b[1;33m)\u001b[0m\u001b[1;33m:\u001b[0m\u001b[1;33m\u001b[0m\u001b[0m\n\u001b[1;32m-> 2297\u001b[1;33m     \u001b[1;32mreturn\u001b[0m \u001b[0m_imread\u001b[0m\u001b[1;33m(\u001b[0m\u001b[1;33m*\u001b[0m\u001b[0margs\u001b[0m\u001b[1;33m,\u001b[0m \u001b[1;33m**\u001b[0m\u001b[0mkwargs\u001b[0m\u001b[1;33m)\u001b[0m\u001b[1;33m\u001b[0m\u001b[0m\n\u001b[0m\u001b[0;32m   2298\u001b[0m \u001b[1;33m\u001b[0m\u001b[0m\n\u001b[0;32m   2299\u001b[0m \u001b[1;33m\u001b[0m\u001b[0m\n",
      "\u001b[1;32m/home/ubuntu/miniconda2/envs/theano/lib/python2.7/site-packages/matplotlib/image.pyc\u001b[0m in \u001b[0;36mimread\u001b[1;34m(fname, format)\u001b[0m\n\u001b[0;32m   1304\u001b[0m \u001b[1;33m\u001b[0m\u001b[0m\n\u001b[0;32m   1305\u001b[0m     \u001b[1;32mif\u001b[0m \u001b[0mext\u001b[0m \u001b[1;32mnot\u001b[0m \u001b[1;32min\u001b[0m \u001b[0mhandlers\u001b[0m\u001b[1;33m:\u001b[0m\u001b[1;33m\u001b[0m\u001b[0m\n\u001b[1;32m-> 1306\u001b[1;33m         \u001b[0mim\u001b[0m \u001b[1;33m=\u001b[0m \u001b[0mpilread\u001b[0m\u001b[1;33m(\u001b[0m\u001b[0mfname\u001b[0m\u001b[1;33m)\u001b[0m\u001b[1;33m\u001b[0m\u001b[0m\n\u001b[0m\u001b[0;32m   1307\u001b[0m         \u001b[1;32mif\u001b[0m \u001b[0mim\u001b[0m \u001b[1;32mis\u001b[0m \u001b[0mNone\u001b[0m\u001b[1;33m:\u001b[0m\u001b[1;33m\u001b[0m\u001b[0m\n\u001b[0;32m   1308\u001b[0m             raise ValueError('Only know how to handle extensions: %s; '\n",
      "\u001b[1;32m/home/ubuntu/miniconda2/envs/theano/lib/python2.7/site-packages/matplotlib/image.pyc\u001b[0m in \u001b[0;36mpilread\u001b[1;34m(fname)\u001b[0m\n\u001b[0;32m   1282\u001b[0m         \u001b[1;32mexcept\u001b[0m \u001b[0mImportError\u001b[0m\u001b[1;33m:\u001b[0m\u001b[1;33m\u001b[0m\u001b[0m\n\u001b[0;32m   1283\u001b[0m             \u001b[1;32mreturn\u001b[0m \u001b[0mNone\u001b[0m\u001b[1;33m\u001b[0m\u001b[0m\n\u001b[1;32m-> 1284\u001b[1;33m         \u001b[0mimage\u001b[0m \u001b[1;33m=\u001b[0m \u001b[0mImage\u001b[0m\u001b[1;33m.\u001b[0m\u001b[0mopen\u001b[0m\u001b[1;33m(\u001b[0m\u001b[0mfname\u001b[0m\u001b[1;33m)\u001b[0m\u001b[1;33m\u001b[0m\u001b[0m\n\u001b[0m\u001b[0;32m   1285\u001b[0m         \u001b[1;32mreturn\u001b[0m \u001b[0mpil_to_array\u001b[0m\u001b[1;33m(\u001b[0m\u001b[0mimage\u001b[0m\u001b[1;33m)\u001b[0m\u001b[1;33m\u001b[0m\u001b[0m\n\u001b[0;32m   1286\u001b[0m \u001b[1;33m\u001b[0m\u001b[0m\n",
      "\u001b[1;32m/home/ubuntu/miniconda2/envs/theano/lib/python2.7/site-packages/PIL/Image.pyc\u001b[0m in \u001b[0;36mopen\u001b[1;34m(fp, mode)\u001b[0m\n\u001b[0;32m   2280\u001b[0m \u001b[1;33m\u001b[0m\u001b[0m\n\u001b[0;32m   2281\u001b[0m     \u001b[1;32mif\u001b[0m \u001b[0mfilename\u001b[0m\u001b[1;33m:\u001b[0m\u001b[1;33m\u001b[0m\u001b[0m\n\u001b[1;32m-> 2282\u001b[1;33m         \u001b[0mfp\u001b[0m \u001b[1;33m=\u001b[0m \u001b[0mbuiltins\u001b[0m\u001b[1;33m.\u001b[0m\u001b[0mopen\u001b[0m\u001b[1;33m(\u001b[0m\u001b[0mfilename\u001b[0m\u001b[1;33m,\u001b[0m \u001b[1;34m\"rb\"\u001b[0m\u001b[1;33m)\u001b[0m\u001b[1;33m\u001b[0m\u001b[0m\n\u001b[0m\u001b[0;32m   2283\u001b[0m \u001b[1;33m\u001b[0m\u001b[0m\n\u001b[0;32m   2284\u001b[0m     \u001b[1;32mtry\u001b[0m\u001b[1;33m:\u001b[0m\u001b[1;33m\u001b[0m\u001b[0m\n",
      "\u001b[1;31mIOError\u001b[0m: [Errno 2] No such file or directory: 'data/test/Tuebingen_Neckarfront.jpg'"
     ]
    }
   ],
   "source": [
    "\n",
    "photo = plt.imread('data/Tuebingen_Neckarfront.jpg')\n"
   ]
  },
  {
   "cell_type": "code",
   "execution_count": 2,
   "metadata": {
    "collapsed": false
   },
   "outputs": [
    {
     "name": "stdout",
     "output_type": "stream",
     "text": [
      "--2016-12-08 14:30:40--  https://s3.amazonaws.com/lasagne/recipes/pretrained/imagenet/vgg19_normalized.pkl\n",
      "Resolving s3.amazonaws.com... 52.216.64.219\n",
      "Connecting to s3.amazonaws.com|52.216.64.219|:443... connected.\n",
      "HTTP request sent, awaiting response... 200 OK\n",
      "Length: 80126892 (76M) [binary/octet-stream]\n",
      "Saving to: ‘vgg19_normalized.pkl’\n",
      "\n",
      "vgg19_normalized.pk 100%[===================>]  76.41M  15.2MB/s    in 5.2s    \n",
      "\n",
      "2016-12-08 14:30:45 (14.7 MB/s) - ‘vgg19_normalized.pkl’ saved [80126892/80126892]\n",
      "\n"
     ]
    }
   ],
   "source": [
    "# !wget https://s3.amazonaws.com/lasagne/recipes/pretrained/imagenet/vgg19_normalized.pkl\n"
   ]
  },
  {
   "cell_type": "code",
   "execution_count": null,
   "metadata": {
    "collapsed": true
   },
   "outputs": [],
   "source": [
    "values = pickle.load(open('vgg19_normalized.pkl'))['param values']"
   ]
  },
  {
   "cell_type": "code",
   "execution_count": 9,
   "metadata": {
    "collapsed": true
   },
   "outputs": [],
   "source": [
    "def build_model():\n",
    "    X=T.matrix('X')\n",
    "    conv_layer=vgg19(None,1,IMAGE_W)\n",
    "    conv_layer.set_params(values)\n",
    "    #InputLayer((1, 3, IMAGE_W, IMAGE_W))\n",
    "    net=conv_layer.layers\n",
    "    net['input']= conv_layer.input \n",
    "    net['pool5'] =conv_layer.output\n",
    "    return net\n"
   ]
  },
  {
   "cell_type": "code",
   "execution_count": 4,
   "metadata": {
    "collapsed": true
   },
   "outputs": [],
   "source": []
  },
  {
   "cell_type": "code",
   "execution_count": null,
   "metadata": {
    "collapsed": true
   },
   "outputs": [],
   "source": []
  }
 ],
 "metadata": {
  "anaconda-cloud": {},
  "kernelspec": {
   "display_name": "Python 2",
   "language": "python",
   "name": "python2"
  },
  "language_info": {
   "codemirror_mode": {
    "name": "ipython",
    "version": 2
   },
   "file_extension": ".py",
   "mimetype": "text/x-python",
   "name": "python",
   "nbconvert_exporter": "python",
   "pygments_lexer": "ipython2",
   "version": "2.7.12"
  }
 },
 "nbformat": 4,
 "nbformat_minor": 1
}
