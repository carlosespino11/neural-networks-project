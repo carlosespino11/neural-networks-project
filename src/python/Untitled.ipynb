{
 "cells": [
  {
   "cell_type": "code",
   "execution_count": 1,
   "metadata": {
    "collapsed": true
   },
   "outputs": [],
   "source": [
    "import numpy as np\n",
    "import pickle\n",
    "import skimage.transform\n",
    "import scipy\n",
    "\n",
    "import theano\n",
    "import theano.tensor as T\n"
   ]
  },
  {
   "cell_type": "code",
   "execution_count": 5,
   "metadata": {
    "collapsed": false
   },
   "outputs": [],
   "source": [
    "from nn import ConvLayer\n",
    "from theano.tensor.signal import pool\n",
    "\n",
    "class vgg19(object):\n",
    "    def __init__(self, input):\n",
    "        batch_size = 1\n",
    "        width_1 = input.shape[0]\n",
    "        rng=np.random.RandomState(11)\n",
    "\n",
    "\n",
    "        self.conv1_1 = ConvLayer(rng,\n",
    "            input=input,\n",
    "            image_shape=(batch_size, 3, width_1, width_1),\n",
    "            filter_shape=(64, 3, 3, 3),\n",
    "            border_mode=1\n",
    "        )\n",
    "        self.conv1_2 = ConvLayer(\n",
    "            rng,\n",
    "            input=self.conv1_1.output,\n",
    "            image_shape=(batch_size, 64, width_1, width_1),\n",
    "            filter_shape=(64, 64, 3, 3),\n",
    "            border_mode=1\n",
    "        )\n",
    "        self.pool1 = pool.pool_2d(\n",
    "            input=self.conv1_2.output,\n",
    "            ds=(2,2)\n",
    "        )\n",
    "        width_2 = width_1/2\n",
    "\n",
    "\n",
    "        self.conv2_1 = ConvLayer(\n",
    "            rng,\n",
    "            input=self.pool1,\n",
    "            image_shape=(batch_size, 64, width_2, width_2),\n",
    "            filter_shape=(128, 64, 3, 3),\n",
    "            border_mode=1\n",
    "        )\n",
    "        self.conv2_2  = ConvLayer(\n",
    "            rng,\n",
    "            input=self.conv2_1.output,\n",
    "            image_shape=(batch_size, 128, width_2, width_2),\n",
    "            filter_shape=(128, 128, 3, 3),\n",
    "            border_mode=1\n",
    "        )\n",
    "        self.pool2 = pool.pool_2d(\n",
    "                input=self.conv2_2.output,\n",
    "                ds=(2,2)\n",
    "        )    \n",
    "        width_3 = width_2/2\n",
    "        self.conv3_1 = ConvLayer(\n",
    "            rng,\n",
    "            input=self.pool2,\n",
    "            image_shape=(batch_size, 128, width_3, width_3),\n",
    "            filter_shape=(256, 128, 3, 3),\n",
    "            border_mode=1\n",
    "        )\n",
    "        self.conv3_2 = ConvLayer(\n",
    "            rng,\n",
    "            input=self.conv3_1.output,\n",
    "            image_shape=(batch_size, 256, width_3, width_3),\n",
    "            filter_shape=(256, 256, 3, 3),\n",
    "            border_mode=1\n",
    "        )\n",
    "        self.conv3_3 = ConvLayer(\n",
    "            rng,\n",
    "            input=self.conv3_2.output,\n",
    "            image_shape=(batch_size, 256, width_3, width_3),\n",
    "            filter_shape=(256, 256, 3, 3),\n",
    "            border_mode=1\n",
    "        )\n",
    "\n",
    "        self.conv3_4 = ConvLayer(\n",
    "            rng,\n",
    "            input=self.conv3_3.output,\n",
    "            image_shape=(batch_size, 256, width_3, width_3),\n",
    "            filter_shape=(512, 256, 3, 3),\n",
    "            border_mode=1\n",
    "        )\n",
    "        self.pool3 = pool.pool_2d(\n",
    "                input=self.conv3_4.output,\n",
    "                ds=(2,2)\n",
    "        ) \n",
    "        width_4 = width_3/2\n",
    "        self.conv4_1 = ConvLayer(\n",
    "            rng,\n",
    "            input=self.pool3,\n",
    "            image_shape=(batch_size, 512, width_4, width_4),\n",
    "            filter_shape=(512, 512, 3, 3),\n",
    "            border_mode=1\n",
    "        )\n",
    "        self.conv4_2 = ConvLayer(\n",
    "            rng,\n",
    "            input=self.conv4_1.output,\n",
    "            image_shape=(batch_size, 512, width_4, width_4),\n",
    "            filter_shape=(512, 512, 3, 3),\n",
    "            border_mode=1\n",
    "        )\n",
    "        self.conv4_3 = ConvLayer(\n",
    "            rng,\n",
    "            input=self.conv4_2.output,\n",
    "            image_shape=(batch_size, 512, width_4, width_4),\n",
    "            filter_shape=(512, 512, 3, 3),\n",
    "            border_mode=1\n",
    "        )\n",
    "\n",
    "        self.conv4_4 = ConvLayer(\n",
    "            rng,\n",
    "            input=self.conv4_3.output,\n",
    "            image_shape=(batch_size, 512, width_4, width_4),\n",
    "            filter_shape=(512, 512, 3, 3),\n",
    "            border_mode=1\n",
    "        )\n",
    "        self.pool4 = pool.pool_2d(\n",
    "                input=self.conv4_4.output,\n",
    "                ds=(2,2)\n",
    "        ) \n",
    "        width_5 = width/2\n",
    "        self.conv5_1 = ConvLayer(\n",
    "            rng,\n",
    "            input=self.pool4,\n",
    "            image_shape=(batch_size, 512, width_5, width_5),\n",
    "            filter_shape=(512, 512, 3, 3),\n",
    "            border_mode=1\n",
    "        )\n",
    "        self.conv5_2 = ConvLayer(\n",
    "            rng,\n",
    "            input=self.conv5_1.output,\n",
    "            image_shape=(batch_size, 512, width_5, width_5),\n",
    "            filter_shape=(512, 512, 3, 3),\n",
    "            border_mode=1\n",
    "        )\n",
    "        self.conv5_3 = ConvLayer(\n",
    "            rng,\n",
    "            input=self.conv5_2.output,\n",
    "            image_shape=(batch_size, 512, width_5, width_5),\n",
    "            filter_shape=(512, 512, 3, 3),\n",
    "            border_mode=1\n",
    "        )\n",
    "\n",
    "        self.conv5_4 = ConvLayer(\n",
    "            rng,\n",
    "            input=self.conv5_3.output,\n",
    "            image_shape=(batch_size, 512, width_5, width_5),\n",
    "            filter_shape=(512, 256, 3, 3),\n",
    "            border_mode=1\n",
    "        )\n",
    "        self.pool5 = pool.pool_2d(\n",
    "                input=self.conv5_4.output,\n",
    "                ds=(2,2)\n",
    "        ) \n"
   ]
  },
  {
   "cell_type": "code",
   "execution_count": 12,
   "metadata": {
    "collapsed": false
   },
   "outputs": [
    {
     "data": {
      "text/plain": [
       "(1, 32)"
      ]
     },
     "execution_count": 12,
     "metadata": {},
     "output_type": "execute_result"
    }
   ],
   "source": [
    "\n",
    "# build VGG net and load weights\n",
    "\n",
    "# net = build_model()\n",
    "\n",
    "values = pickle.load(open('vgg19_normalized.pkl'))['param values']\n",
    "np.matrix(values).shape\n",
    "# lasagne.layers.set_all_param_values(net['pool5'], values)"
   ]
  },
  {
   "cell_type": "code",
   "execution_count": null,
   "metadata": {
    "collapsed": true
   },
   "outputs": [],
   "source": [
    "MEAN_VALUES = np.array([104, 117, 123]).reshape((3,1,1))\n",
    "\n",
    "def prep_image(im):\n",
    "    if len(im.shape) == 2:\n",
    "        im = im[:, :, np.newaxis]\n",
    "        im = np.repeat(im, 3, axis=2)\n",
    "    h, w, _ = im.shape\n",
    "    if h < w:\n",
    "        im = skimage.transform.resize(im, (IMAGE_W, w*IMAGE_W/h), preserve_range=True)\n",
    "    else:\n",
    "        im = skimage.transform.resize(im, (h*IMAGE_W/w, IMAGE_W), preserve_range=True)\n",
    "\n",
    "    # Central crop\n",
    "    h, w, _ = im.shape\n",
    "    im = im[h//2-IMAGE_W//2:h//2+IMAGE_W//2, w//2-IMAGE_W//2:w//2+IMAGE_W//2]\n",
    "    \n",
    "    rawim = np.copy(im).astype('uint8')\n",
    "    \n",
    "    # Shuffle axes to c01\n",
    "    im = np.swapaxes(np.swapaxes(im, 1, 2), 0, 1)\n",
    "    \n",
    "    # Convert RGB to BGR\n",
    "    im = im[::-1, :, :]\n",
    "\n",
    "    im = im - MEAN_VALUES\n",
    "    return rawim, floatX(im[np.newaxis])"
   ]
  },
  {
   "cell_type": "code",
   "execution_count": 6,
   "metadata": {
    "collapsed": false
   },
   "outputs": [
    {
     "ename": "NameError",
     "evalue": "name 'plt' is not defined",
     "output_type": "error",
     "traceback": [
      "\u001b[0;31m---------------------------------------------------------------------------\u001b[0m",
      "\u001b[0;31mNameError\u001b[0m                                 Traceback (most recent call last)",
      "\u001b[0;32m<ipython-input-6-a680fdc927e3>\u001b[0m in \u001b[0;36m<module>\u001b[0;34m()\u001b[0m\n\u001b[0;32m----> 1\u001b[0;31m \u001b[0mphoto\u001b[0m \u001b[0;34m=\u001b[0m \u001b[0mplt\u001b[0m\u001b[0;34m.\u001b[0m\u001b[0mimread\u001b[0m\u001b[0;34m(\u001b[0m\u001b[0;34m'data/test/Tuebingen_Neckarfront.jpg'\u001b[0m\u001b[0;34m)\u001b[0m\u001b[0;34m\u001b[0m\u001b[0m\n\u001b[0m",
      "\u001b[0;31mNameError\u001b[0m: name 'plt' is not defined"
     ]
    }
   ],
   "source": [
    "\n",
    "photo = plt.imread('data/test/Tuebingen_Neckarfront.jpg')\n"
   ]
  },
  {
   "cell_type": "code",
   "execution_count": 2,
   "metadata": {
    "collapsed": false
   },
   "outputs": [
    {
     "name": "stdout",
     "output_type": "stream",
     "text": [
      "--2016-12-08 14:30:40--  https://s3.amazonaws.com/lasagne/recipes/pretrained/imagenet/vgg19_normalized.pkl\n",
      "Resolving s3.amazonaws.com... 52.216.64.219\n",
      "Connecting to s3.amazonaws.com|52.216.64.219|:443... connected.\n",
      "HTTP request sent, awaiting response... 200 OK\n",
      "Length: 80126892 (76M) [binary/octet-stream]\n",
      "Saving to: ‘vgg19_normalized.pkl’\n",
      "\n",
      "vgg19_normalized.pk 100%[===================>]  76.41M  15.2MB/s    in 5.2s    \n",
      "\n",
      "2016-12-08 14:30:45 (14.7 MB/s) - ‘vgg19_normalized.pkl’ saved [80126892/80126892]\n",
      "\n"
     ]
    }
   ],
   "source": [
    "# !wget https://s3.amazonaws.com/lasagne/recipes/pretrained/imagenet/vgg19_normalized.pkl\n"
   ]
  },
  {
   "cell_type": "code",
   "execution_count": null,
   "metadata": {
    "collapsed": true
   },
   "outputs": [],
   "source": [
    "def build_model():\n",
    "    net = {}\n",
    "    net['input'] = InputLayer((1, 3, IMAGE_W, IMAGE_W))\n",
    "    net['conv1_1'] = ConvLayer(net['input'], 64, 3, pad=1, flip_filters=False)\n",
    "    net['conv1_2'] = ConvLayer(net['conv1_1'], 64, 3, pad=1, flip_filters=False)\n",
    "    net['pool1'] = PoolLayer(net['conv1_2'], 2, mode='average_exc_pad')\n",
    "    net['conv2_1'] = ConvLayer(net['pool1'], 128, 3, pad=1, flip_filters=False)\n",
    "    net['conv2_2'] = ConvLayer(net['conv2_1'], 128, 3, pad=1, flip_filters=False)\n",
    "    net['pool2'] = PoolLayer(net['conv2_2'], 2, mode='average_exc_pad')\n",
    "    net['conv3_1'] = ConvLayer(net['pool2'], 256, 3, pad=1, flip_filters=False)\n",
    "    net['conv3_2'] = ConvLayer(net['conv3_1'], 256, 3, pad=1, flip_filters=False)\n",
    "    net['conv3_3'] = ConvLayer(net['conv3_2'], 256, 3, pad=1, flip_filters=False)\n",
    "    net['conv3_4'] = ConvLayer(net['conv3_3'], 256, 3, pad=1, flip_filters=False)\n",
    "    net['pool3'] = PoolLayer(net['conv3_4'], 2, mode='average_exc_pad')\n",
    "    net['conv4_1'] = ConvLayer(net['pool3'], 512, 3, pad=1, flip_filters=False)\n",
    "    net['conv4_2'] = ConvLayer(net['conv4_1'], 512, 3, pad=1, flip_filters=False)\n",
    "    net['conv4_3'] = ConvLayer(net['conv4_2'], 512, 3, pad=1, flip_filters=False)\n",
    "    net['conv4_4'] = ConvLayer(net['conv4_3'], 512, 3, pad=1, flip_filters=False)\n",
    "    net['pool4'] = PoolLayer(net['conv4_4'], 2, mode='average_exc_pad')\n",
    "    net['conv5_1'] = ConvLayer(net['pool4'], 512, 3, pad=1, flip_filters=False)\n",
    "    net['conv5_2'] = ConvLayer(net['conv5_1'], 512, 3, pad=1, flip_filters=False)\n",
    "    net['conv5_3'] = ConvLayer(net['conv5_2'], 512, 3, pad=1, flip_filters=False)\n",
    "    net['conv5_4'] = ConvLayer(net['conv5_3'], 512, 3, pad=1, flip_filters=False)\n",
    "    net['pool5'] = PoolLayer(net['conv5_4'], 2, mode='average_exc_pad')\n",
    "\n",
    "    return net\n"
   ]
  },
  {
   "cell_type": "code",
   "execution_count": 4,
   "metadata": {
    "collapsed": true
   },
   "outputs": [],
   "source": [
    "values = pickle.load(open('vgg19_normalized.pkl'))['param values']"
   ]
  },
  {
   "cell_type": "code",
   "execution_count": null,
   "metadata": {
    "collapsed": true
   },
   "outputs": [],
   "source": []
  }
 ],
 "metadata": {
  "anaconda-cloud": {},
  "kernelspec": {
   "display_name": "Python [conda root]",
   "language": "python",
   "name": "conda-root-py"
  },
  "language_info": {
   "codemirror_mode": {
    "name": "ipython",
    "version": 2
   },
   "file_extension": ".py",
   "mimetype": "text/x-python",
   "name": "python",
   "nbconvert_exporter": "python",
   "pygments_lexer": "ipython2",
   "version": "2.7.12"
  }
 },
 "nbformat": 4,
 "nbformat_minor": 1
}
